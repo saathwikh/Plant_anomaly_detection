{
 "cells": [
  {
   "cell_type": "code",
   "execution_count": 4,
   "id": "1d340dd6-80e3-405e-8cc3-d8bb2c1736ed",
   "metadata": {},
   "outputs": [],
   "source": [
    "import os\n",
    "import pandas as pd"
   ]
  },
  {
   "cell_type": "code",
   "execution_count": 20,
   "id": "26dd971a-846d-410b-be0f-e7d901319b9a",
   "metadata": {},
   "outputs": [
    {
     "name": "stdout",
     "output_type": "stream",
     "text": [
      "CSV file 'image_labels.csv' created successfully with 1011 entries.\n"
     ]
    }
   ],
   "source": [
    "# Define the path to the data directory\n",
    "data_dir = \"E:/JAIN/PCL/Plant_Anomaly_Detection/labeling\"\n",
    "\n",
    "# Initialize lists to store image names and labels\n",
    "image_names = []\n",
    "labels = []\n",
    "\n",
    "# Traverse the directory structure\n",
    "for plant_type in os.listdir(data_dir):\n",
    "    plant_path = os.path.join(data_dir, plant_type)\n",
    "    if os.path.isdir(plant_path):\n",
    "        for condition in os.listdir(plant_path):\n",
    "            condition_path = os.path.join(plant_path, condition)\n",
    "            if os.path.isdir(condition_path):\n",
    "                # Get label for this condition\n",
    "                label = f\"{plant_type} {condition.capitalize()}\"\n",
    "                \n",
    "                # List all images in the directory and collect their names and labels\n",
    "                for image_name in os.listdir(condition_path):\n",
    "                    image_names.append(image_name)\n",
    "                    labels.append(label)\n",
    "\n",
    "# Create a DataFrame and save to CSV\n",
    "df = pd.DataFrame({\n",
    "    \"image_Name\": image_names,\n",
    "    \"label\": labels\n",
    "})\n",
    "\n",
    "# Save the DataFrame to a CSV file\n",
    "output_csv = \"image_labels.csv\"\n",
    "df.to_csv(output_csv, index=False)\n",
    "\n",
    "print(f\"CSV file '{output_csv}' created successfully with {len(df)} entries.\")\n"
   ]
  }
 ],
 "metadata": {
  "kernelspec": {
   "display_name": "Python 3 (ipykernel)",
   "language": "python",
   "name": "python3"
  },
  "language_info": {
   "codemirror_mode": {
    "name": "ipython",
    "version": 3
   },
   "file_extension": ".py",
   "mimetype": "text/x-python",
   "name": "python",
   "nbconvert_exporter": "python",
   "pygments_lexer": "ipython3",
   "version": "3.12.4"
  }
 },
 "nbformat": 4,
 "nbformat_minor": 5
}
